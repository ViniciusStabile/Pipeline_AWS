{
  "nbformat": 4,
  "nbformat_minor": 0,
  "metadata": {
    "colab": {
      "provenance": [],
      "authorship_tag": "ABX9TyNRaG0EwdIey6zlKI9sEnTc",
      "include_colab_link": true
    },
    "kernelspec": {
      "name": "python3",
      "display_name": "Python 3"
    },
    "language_info": {
      "name": "python"
    }
  },
  "cells": [
    {
      "cell_type": "markdown",
      "metadata": {
        "id": "view-in-github",
        "colab_type": "text"
      },
      "source": [
        "<a href=\"https://colab.research.google.com/github/ViniciusStabile/Pipeline_AWS/blob/main/Pipeline_AWS.ipynb\" target=\"_parent\"><img src=\"https://colab.research.google.com/assets/colab-badge.svg\" alt=\"Open In Colab\"/></a>"
      ]
    },
    {
      "cell_type": "code",
      "execution_count": null,
      "metadata": {
        "id": "hH3_j7Z9fULT"
      },
      "outputs": [],
      "source": [
        "! mkdir -p data"
      ]
    },
    {
      "cell_type": "code",
      "source": [
        "from google.colab import drive\n",
        "drive.mount('/content/drive')"
      ],
      "metadata": {
        "id": "-kDDOl4ZvNoT"
      },
      "execution_count": null,
      "outputs": []
    },
    {
      "cell_type": "code",
      "source": [
        "import pandas as pd"
      ],
      "metadata": {
        "id": "_-gjCmCKfV18"
      },
      "execution_count": null,
      "outputs": []
    },
    {
      "cell_type": "markdown",
      "source": [
        "# CRIANDO UM DICIONARIO COM CADA ARQUIVO"
      ],
      "metadata": {
        "id": "hdFDosRUa-pz"
      }
    },
    {
      "cell_type": "code",
      "source": [
        "arquivos = [\"data/dados_2015.csv\", \"data/dados_2016.csv\", \"data/dados_2017.csv\", \"data/dados_2018.csv\", \"data/dados_2019.csv\", \"data/dados_2020.csv\"]"
      ],
      "metadata": {
        "id": "_W3CDI0dfi9r"
      },
      "execution_count": null,
      "outputs": []
    },
    {
      "cell_type": "code",
      "source": [
        "dfs = {}"
      ],
      "metadata": {
        "id": "bvRX7XxV0W8b"
      },
      "execution_count": null,
      "outputs": []
    },
    {
      "cell_type": "code",
      "source": [
        "for arquivo in arquivos:\n",
        "  ano = arquivo.split(\"_\")[-1].split(\".\")[0]\n",
        "  dfs[ano] = pd.read_csv(arquivo)"
      ],
      "metadata": {
        "collapsed": true,
        "id": "LPADyf8D1Erl"
      },
      "execution_count": null,
      "outputs": []
    },
    {
      "cell_type": "code",
      "source": [
        "dfs['2019'].shape"
      ],
      "metadata": {
        "id": "myDSN4la2uCW",
        "colab": {
          "base_uri": "https://localhost:8080/"
        },
        "outputId": "23a028b8-317f-4455-f2b6-8f0b1bfc4cb4"
      },
      "execution_count": null,
      "outputs": [
        {
          "output_type": "execute_result",
          "data": {
            "text/plain": [
              "(61272, 29)"
            ]
          },
          "metadata": {},
          "execution_count": 9
        }
      ]
    },
    {
      "cell_type": "markdown",
      "source": [
        "# FAZENDO CONEXAO COM O S3 PARA GUARDAR OS DADOS LA"
      ],
      "metadata": {
        "id": "iy3zeJCIbPq2"
      }
    },
    {
      "cell_type": "code",
      "source": [
        "pip install boto3"
      ],
      "metadata": {
        "id": "wqGN3XRBJsub",
        "colab": {
          "base_uri": "https://localhost:8080/"
        },
        "outputId": "251b38e6-280b-4419-9da9-050884b71217"
      },
      "execution_count": null,
      "outputs": [
        {
          "output_type": "stream",
          "name": "stdout",
          "text": [
            "Requirement already satisfied: boto3 in /usr/local/lib/python3.11/dist-packages (1.37.15)\n",
            "Requirement already satisfied: botocore<1.38.0,>=1.37.15 in /usr/local/lib/python3.11/dist-packages (from boto3) (1.37.15)\n",
            "Requirement already satisfied: jmespath<2.0.0,>=0.7.1 in /usr/local/lib/python3.11/dist-packages (from boto3) (1.0.1)\n",
            "Requirement already satisfied: s3transfer<0.12.0,>=0.11.0 in /usr/local/lib/python3.11/dist-packages (from boto3) (0.11.4)\n",
            "Requirement already satisfied: python-dateutil<3.0.0,>=2.1 in /usr/local/lib/python3.11/dist-packages (from botocore<1.38.0,>=1.37.15->boto3) (2.8.2)\n",
            "Requirement already satisfied: urllib3!=2.2.0,<3,>=1.25.4 in /usr/local/lib/python3.11/dist-packages (from botocore<1.38.0,>=1.37.15->boto3) (2.3.0)\n",
            "Requirement already satisfied: six>=1.5 in /usr/local/lib/python3.11/dist-packages (from python-dateutil<3.0.0,>=2.1->botocore<1.38.0,>=1.37.15->boto3) (1.17.0)\n"
          ]
        }
      ]
    },
    {
      "cell_type": "code",
      "source": [
        "import boto3\n",
        "\n",
        "from google.colab import userdata\n",
        "\n",
        "aws_access_key_id = userdata.get('AWS_ACCESS_KEY_ID')\n",
        "aws_secret_access_key = userdata.get('AWS_SECRET_ACCESS_KEY')\n",
        "\n",
        "boto3.setup_default_session(\n",
        "    aws_access_key_id=aws_access_key_id,\n",
        "    aws_secret_access_key=aws_secret_access_key,\n",
        "    region_name=\"sa-east-1\"\n",
        ")\n",
        "\n",
        "s3 = boto3.client(\"s3\")"
      ],
      "metadata": {
        "id": "GyjXIk7uJ0xq"
      },
      "execution_count": null,
      "outputs": []
    },
    {
      "cell_type": "code",
      "source": [
        "content = \"\"\" ola, s3 \"\"\"\n",
        "\n",
        "with open(\"Hello-s3.txt\",\"w+\") as f:\n",
        "  f.write(content)"
      ],
      "metadata": {
        "id": "pEOrlJmGKBLj"
      },
      "execution_count": null,
      "outputs": []
    },
    {
      "cell_type": "code",
      "source": [
        "s3.upload_file(\"/content/data/dados_2016.csv\",\"alura-datalakeaws-1\",\"bronze/dados_2016.csv\")"
      ],
      "metadata": {
        "id": "S9xU9PwbMnRu"
      },
      "execution_count": null,
      "outputs": []
    }
  ]
}